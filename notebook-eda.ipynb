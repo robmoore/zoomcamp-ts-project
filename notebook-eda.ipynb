{
 "cells": [
  {
   "cell_type": "code",
   "execution_count": 5,
   "metadata": {
    "id": "CR5G98du0WOS"
   },
   "outputs": [],
   "source": [
    "%matplotlib inline\n",
    "\n",
    "from yahooquery import Ticker\n",
    "\n",
    "import datetime as dt\n",
    "\n",
    "import pandas as pd\n",
    "import numpy as np\n",
    "import matplotlib.pyplot as plt\n",
    "\n",
    "from sklearn.model_selection import train_test_split\n",
    "from sklearn.metrics import mean_squared_error\n",
    "\n",
    "from statsmodels.tsa.stattools import adfuller\n",
    "from statsmodels.graphics.tsaplots import plot_acf"
   ]
  },
  {
   "cell_type": "code",
   "execution_count": 21,
   "metadata": {
    "colab": {
     "base_uri": "https://localhost:8080/",
     "height": 454
    },
    "id": "ZcOt2bqb0IBH",
    "outputId": "6de202ee-aa04-47c0-afb3-4652ab835770"
   },
   "outputs": [
    {
     "data": {
      "text/html": [
       "<div>\n",
       "<style scoped>\n",
       "    .dataframe tbody tr th:only-of-type {\n",
       "        vertical-align: middle;\n",
       "    }\n",
       "\n",
       "    .dataframe tbody tr th {\n",
       "        vertical-align: top;\n",
       "    }\n",
       "\n",
       "    .dataframe thead th {\n",
       "        text-align: right;\n",
       "    }\n",
       "</style>\n",
       "<table border=\"1\" class=\"dataframe\">\n",
       "  <thead>\n",
       "    <tr style=\"text-align: right;\">\n",
       "      <th></th>\n",
       "      <th></th>\n",
       "      <th>open</th>\n",
       "      <th>low</th>\n",
       "      <th>volume</th>\n",
       "      <th>close</th>\n",
       "      <th>high</th>\n",
       "      <th>adjclose</th>\n",
       "    </tr>\n",
       "    <tr>\n",
       "      <th>symbol</th>\n",
       "      <th>date</th>\n",
       "      <th></th>\n",
       "      <th></th>\n",
       "      <th></th>\n",
       "      <th></th>\n",
       "      <th></th>\n",
       "      <th></th>\n",
       "    </tr>\n",
       "  </thead>\n",
       "  <tbody>\n",
       "    <tr>\n",
       "      <th rowspan=\"11\" valign=\"top\">^GSPC</th>\n",
       "      <th>1999-01-04</th>\n",
       "      <td>1229.229980</td>\n",
       "      <td>1219.099976</td>\n",
       "      <td>877000000</td>\n",
       "      <td>1228.099976</td>\n",
       "      <td>1248.810059</td>\n",
       "      <td>1228.099976</td>\n",
       "    </tr>\n",
       "    <tr>\n",
       "      <th>1999-01-05</th>\n",
       "      <td>1228.099976</td>\n",
       "      <td>1228.099976</td>\n",
       "      <td>775000000</td>\n",
       "      <td>1244.780029</td>\n",
       "      <td>1246.109985</td>\n",
       "      <td>1244.780029</td>\n",
       "    </tr>\n",
       "    <tr>\n",
       "      <th>1999-01-06</th>\n",
       "      <td>1244.780029</td>\n",
       "      <td>1244.780029</td>\n",
       "      <td>986900000</td>\n",
       "      <td>1272.339966</td>\n",
       "      <td>1272.500000</td>\n",
       "      <td>1272.339966</td>\n",
       "    </tr>\n",
       "    <tr>\n",
       "      <th>1999-01-07</th>\n",
       "      <td>1272.339966</td>\n",
       "      <td>1257.680054</td>\n",
       "      <td>863000000</td>\n",
       "      <td>1269.729980</td>\n",
       "      <td>1272.339966</td>\n",
       "      <td>1269.729980</td>\n",
       "    </tr>\n",
       "    <tr>\n",
       "      <th>1999-01-08</th>\n",
       "      <td>1269.729980</td>\n",
       "      <td>1261.819946</td>\n",
       "      <td>937800000</td>\n",
       "      <td>1275.089966</td>\n",
       "      <td>1278.239990</td>\n",
       "      <td>1275.089966</td>\n",
       "    </tr>\n",
       "    <tr>\n",
       "      <th>...</th>\n",
       "      <td>...</td>\n",
       "      <td>...</td>\n",
       "      <td>...</td>\n",
       "      <td>...</td>\n",
       "      <td>...</td>\n",
       "      <td>...</td>\n",
       "    </tr>\n",
       "    <tr>\n",
       "      <th>2019-12-24</th>\n",
       "      <td>3225.449951</td>\n",
       "      <td>3220.510010</td>\n",
       "      <td>1296540000</td>\n",
       "      <td>3223.379883</td>\n",
       "      <td>3226.429932</td>\n",
       "      <td>3223.379883</td>\n",
       "    </tr>\n",
       "    <tr>\n",
       "      <th>2019-12-26</th>\n",
       "      <td>3227.199951</td>\n",
       "      <td>3227.199951</td>\n",
       "      <td>2160680000</td>\n",
       "      <td>3239.909912</td>\n",
       "      <td>3240.080078</td>\n",
       "      <td>3239.909912</td>\n",
       "    </tr>\n",
       "    <tr>\n",
       "      <th>2019-12-27</th>\n",
       "      <td>3247.229980</td>\n",
       "      <td>3234.370117</td>\n",
       "      <td>2428670000</td>\n",
       "      <td>3240.020020</td>\n",
       "      <td>3247.929932</td>\n",
       "      <td>3240.020020</td>\n",
       "    </tr>\n",
       "    <tr>\n",
       "      <th>2019-12-30</th>\n",
       "      <td>3240.090088</td>\n",
       "      <td>3216.570068</td>\n",
       "      <td>3013290000</td>\n",
       "      <td>3221.290039</td>\n",
       "      <td>3240.919922</td>\n",
       "      <td>3221.290039</td>\n",
       "    </tr>\n",
       "    <tr>\n",
       "      <th>2019-12-31</th>\n",
       "      <td>3215.179932</td>\n",
       "      <td>3212.030029</td>\n",
       "      <td>2893810000</td>\n",
       "      <td>3230.780029</td>\n",
       "      <td>3231.719971</td>\n",
       "      <td>3230.780029</td>\n",
       "    </tr>\n",
       "  </tbody>\n",
       "</table>\n",
       "<p>5283 rows × 6 columns</p>\n",
       "</div>"
      ],
      "text/plain": [
       "                          open          low      volume        close  \\\n",
       "symbol date                                                            \n",
       "^GSPC  1999-01-04  1229.229980  1219.099976   877000000  1228.099976   \n",
       "       1999-01-05  1228.099976  1228.099976   775000000  1244.780029   \n",
       "       1999-01-06  1244.780029  1244.780029   986900000  1272.339966   \n",
       "       1999-01-07  1272.339966  1257.680054   863000000  1269.729980   \n",
       "       1999-01-08  1269.729980  1261.819946   937800000  1275.089966   \n",
       "...                        ...          ...         ...          ...   \n",
       "       2019-12-24  3225.449951  3220.510010  1296540000  3223.379883   \n",
       "       2019-12-26  3227.199951  3227.199951  2160680000  3239.909912   \n",
       "       2019-12-27  3247.229980  3234.370117  2428670000  3240.020020   \n",
       "       2019-12-30  3240.090088  3216.570068  3013290000  3221.290039   \n",
       "       2019-12-31  3215.179932  3212.030029  2893810000  3230.780029   \n",
       "\n",
       "                          high     adjclose  \n",
       "symbol date                                  \n",
       "^GSPC  1999-01-04  1248.810059  1228.099976  \n",
       "       1999-01-05  1246.109985  1244.780029  \n",
       "       1999-01-06  1272.500000  1272.339966  \n",
       "       1999-01-07  1272.339966  1269.729980  \n",
       "       1999-01-08  1278.239990  1275.089966  \n",
       "...                        ...          ...  \n",
       "       2019-12-24  3226.429932  3223.379883  \n",
       "       2019-12-26  3240.080078  3239.909912  \n",
       "       2019-12-27  3247.929932  3240.020020  \n",
       "       2019-12-30  3240.919922  3221.290039  \n",
       "       2019-12-31  3231.719971  3230.780029  \n",
       "\n",
       "[5283 rows x 6 columns]"
      ]
     },
     "execution_count": 21,
     "metadata": {},
     "output_type": "execute_result"
    }
   ],
   "source": [
    "ticker = Ticker(\"^GSPC\")\n",
    "\n",
    "df = ticker.history(start=\"1999-01-01\", end=\"2020-01-01\")\n",
    "\n",
    "df"
   ]
  },
  {
   "cell_type": "code",
   "execution_count": 22,
   "metadata": {
    "colab": {
     "base_uri": "https://localhost:8080/"
    },
    "id": "1aSdUvLl0bEz",
    "outputId": "cb31e295-d050-4f90-b1cc-5b98151e4749"
   },
   "outputs": [
    {
     "data": {
      "text/plain": [
       "symbol       object\n",
       "date         object\n",
       "open        float64\n",
       "low         float64\n",
       "volume        int64\n",
       "close       float64\n",
       "high        float64\n",
       "adjclose    float64\n",
       "dtype: object"
      ]
     },
     "execution_count": 22,
     "metadata": {},
     "output_type": "execute_result"
    }
   ],
   "source": [
    "df.reset_index().dtypes"
   ]
  },
  {
   "cell_type": "code",
   "execution_count": 23,
   "metadata": {
    "colab": {
     "base_uri": "https://localhost:8080/",
     "height": 300
    },
    "id": "CUDF8UeAphgU",
    "outputId": "75fd4036-3e30-4421-c3b1-b5ba71fef0a8"
   },
   "outputs": [
    {
     "data": {
      "text/html": [
       "<div>\n",
       "<style scoped>\n",
       "    .dataframe tbody tr th:only-of-type {\n",
       "        vertical-align: middle;\n",
       "    }\n",
       "\n",
       "    .dataframe tbody tr th {\n",
       "        vertical-align: top;\n",
       "    }\n",
       "\n",
       "    .dataframe thead th {\n",
       "        text-align: right;\n",
       "    }\n",
       "</style>\n",
       "<table border=\"1\" class=\"dataframe\">\n",
       "  <thead>\n",
       "    <tr style=\"text-align: right;\">\n",
       "      <th></th>\n",
       "      <th>open</th>\n",
       "      <th>low</th>\n",
       "      <th>volume</th>\n",
       "      <th>close</th>\n",
       "      <th>high</th>\n",
       "      <th>adjclose</th>\n",
       "    </tr>\n",
       "  </thead>\n",
       "  <tbody>\n",
       "    <tr>\n",
       "      <th>count</th>\n",
       "      <td>5283.000000</td>\n",
       "      <td>5283.000000</td>\n",
       "      <td>5.283000e+03</td>\n",
       "      <td>5283.000000</td>\n",
       "      <td>5283.000000</td>\n",
       "      <td>5283.000000</td>\n",
       "    </tr>\n",
       "    <tr>\n",
       "      <th>mean</th>\n",
       "      <td>1562.972945</td>\n",
       "      <td>1553.323175</td>\n",
       "      <td>2.982766e+09</td>\n",
       "      <td>1563.194925</td>\n",
       "      <td>1571.913684</td>\n",
       "      <td>1563.194925</td>\n",
       "    </tr>\n",
       "    <tr>\n",
       "      <th>std</th>\n",
       "      <td>574.270273</td>\n",
       "      <td>573.443163</td>\n",
       "      <td>1.518712e+09</td>\n",
       "      <td>574.357883</td>\n",
       "      <td>574.951299</td>\n",
       "      <td>574.357883</td>\n",
       "    </tr>\n",
       "    <tr>\n",
       "      <th>min</th>\n",
       "      <td>679.280029</td>\n",
       "      <td>666.789978</td>\n",
       "      <td>3.121200e+08</td>\n",
       "      <td>676.530029</td>\n",
       "      <td>695.270020</td>\n",
       "      <td>676.530029</td>\n",
       "    </tr>\n",
       "    <tr>\n",
       "      <th>25%</th>\n",
       "      <td>1163.534973</td>\n",
       "      <td>1154.779968</td>\n",
       "      <td>1.519050e+09</td>\n",
       "      <td>1163.349976</td>\n",
       "      <td>1172.744995</td>\n",
       "      <td>1163.349976</td>\n",
       "    </tr>\n",
       "    <tr>\n",
       "      <th>50%</th>\n",
       "      <td>1351.930054</td>\n",
       "      <td>1340.479980</td>\n",
       "      <td>3.140730e+09</td>\n",
       "      <td>1351.949951</td>\n",
       "      <td>1361.390015</td>\n",
       "      <td>1351.949951</td>\n",
       "    </tr>\n",
       "    <tr>\n",
       "      <th>75%</th>\n",
       "      <td>1949.854980</td>\n",
       "      <td>1939.009949</td>\n",
       "      <td>3.878100e+09</td>\n",
       "      <td>1950.974976</td>\n",
       "      <td>1962.154968</td>\n",
       "      <td>1950.974976</td>\n",
       "    </tr>\n",
       "    <tr>\n",
       "      <th>max</th>\n",
       "      <td>3247.229980</td>\n",
       "      <td>3234.370117</td>\n",
       "      <td>1.145623e+10</td>\n",
       "      <td>3240.020020</td>\n",
       "      <td>3247.929932</td>\n",
       "      <td>3240.020020</td>\n",
       "    </tr>\n",
       "  </tbody>\n",
       "</table>\n",
       "</div>"
      ],
      "text/plain": [
       "              open          low        volume        close         high  \\\n",
       "count  5283.000000  5283.000000  5.283000e+03  5283.000000  5283.000000   \n",
       "mean   1562.972945  1553.323175  2.982766e+09  1563.194925  1571.913684   \n",
       "std     574.270273   573.443163  1.518712e+09   574.357883   574.951299   \n",
       "min     679.280029   666.789978  3.121200e+08   676.530029   695.270020   \n",
       "25%    1163.534973  1154.779968  1.519050e+09  1163.349976  1172.744995   \n",
       "50%    1351.930054  1340.479980  3.140730e+09  1351.949951  1361.390015   \n",
       "75%    1949.854980  1939.009949  3.878100e+09  1950.974976  1962.154968   \n",
       "max    3247.229980  3234.370117  1.145623e+10  3240.020020  3247.929932   \n",
       "\n",
       "          adjclose  \n",
       "count  5283.000000  \n",
       "mean   1563.194925  \n",
       "std     574.357883  \n",
       "min     676.530029  \n",
       "25%    1163.349976  \n",
       "50%    1351.949951  \n",
       "75%    1950.974976  \n",
       "max    3240.020020  "
      ]
     },
     "execution_count": 23,
     "metadata": {},
     "output_type": "execute_result"
    }
   ],
   "source": [
    "df.describe()"
   ]
  },
  {
   "cell_type": "code",
   "execution_count": 24,
   "metadata": {
    "colab": {
     "base_uri": "https://localhost:8080/",
     "height": 454
    },
    "id": "_uo0bJ1I0pc4",
    "outputId": "34738b1c-20ad-4145-c11c-16fd71dcba6b"
   },
   "outputs": [
    {
     "data": {
      "text/html": [
       "<div>\n",
       "<style scoped>\n",
       "    .dataframe tbody tr th:only-of-type {\n",
       "        vertical-align: middle;\n",
       "    }\n",
       "\n",
       "    .dataframe tbody tr th {\n",
       "        vertical-align: top;\n",
       "    }\n",
       "\n",
       "    .dataframe thead th {\n",
       "        text-align: right;\n",
       "    }\n",
       "</style>\n",
       "<table border=\"1\" class=\"dataframe\">\n",
       "  <thead>\n",
       "    <tr style=\"text-align: right;\">\n",
       "      <th></th>\n",
       "      <th>open</th>\n",
       "      <th>low</th>\n",
       "      <th>volume</th>\n",
       "      <th>close</th>\n",
       "      <th>high</th>\n",
       "      <th>adjclose</th>\n",
       "    </tr>\n",
       "    <tr>\n",
       "      <th>date</th>\n",
       "      <th></th>\n",
       "      <th></th>\n",
       "      <th></th>\n",
       "      <th></th>\n",
       "      <th></th>\n",
       "      <th></th>\n",
       "    </tr>\n",
       "  </thead>\n",
       "  <tbody>\n",
       "    <tr>\n",
       "      <th>1999-01-04</th>\n",
       "      <td>1229.229980</td>\n",
       "      <td>1219.099976</td>\n",
       "      <td>877000000</td>\n",
       "      <td>1228.099976</td>\n",
       "      <td>1248.810059</td>\n",
       "      <td>1228.099976</td>\n",
       "    </tr>\n",
       "    <tr>\n",
       "      <th>1999-01-05</th>\n",
       "      <td>1228.099976</td>\n",
       "      <td>1228.099976</td>\n",
       "      <td>775000000</td>\n",
       "      <td>1244.780029</td>\n",
       "      <td>1246.109985</td>\n",
       "      <td>1244.780029</td>\n",
       "    </tr>\n",
       "    <tr>\n",
       "      <th>1999-01-06</th>\n",
       "      <td>1244.780029</td>\n",
       "      <td>1244.780029</td>\n",
       "      <td>986900000</td>\n",
       "      <td>1272.339966</td>\n",
       "      <td>1272.500000</td>\n",
       "      <td>1272.339966</td>\n",
       "    </tr>\n",
       "    <tr>\n",
       "      <th>1999-01-07</th>\n",
       "      <td>1272.339966</td>\n",
       "      <td>1257.680054</td>\n",
       "      <td>863000000</td>\n",
       "      <td>1269.729980</td>\n",
       "      <td>1272.339966</td>\n",
       "      <td>1269.729980</td>\n",
       "    </tr>\n",
       "    <tr>\n",
       "      <th>1999-01-08</th>\n",
       "      <td>1269.729980</td>\n",
       "      <td>1261.819946</td>\n",
       "      <td>937800000</td>\n",
       "      <td>1275.089966</td>\n",
       "      <td>1278.239990</td>\n",
       "      <td>1275.089966</td>\n",
       "    </tr>\n",
       "    <tr>\n",
       "      <th>...</th>\n",
       "      <td>...</td>\n",
       "      <td>...</td>\n",
       "      <td>...</td>\n",
       "      <td>...</td>\n",
       "      <td>...</td>\n",
       "      <td>...</td>\n",
       "    </tr>\n",
       "    <tr>\n",
       "      <th>2019-12-24</th>\n",
       "      <td>3225.449951</td>\n",
       "      <td>3220.510010</td>\n",
       "      <td>1296540000</td>\n",
       "      <td>3223.379883</td>\n",
       "      <td>3226.429932</td>\n",
       "      <td>3223.379883</td>\n",
       "    </tr>\n",
       "    <tr>\n",
       "      <th>2019-12-26</th>\n",
       "      <td>3227.199951</td>\n",
       "      <td>3227.199951</td>\n",
       "      <td>2160680000</td>\n",
       "      <td>3239.909912</td>\n",
       "      <td>3240.080078</td>\n",
       "      <td>3239.909912</td>\n",
       "    </tr>\n",
       "    <tr>\n",
       "      <th>2019-12-27</th>\n",
       "      <td>3247.229980</td>\n",
       "      <td>3234.370117</td>\n",
       "      <td>2428670000</td>\n",
       "      <td>3240.020020</td>\n",
       "      <td>3247.929932</td>\n",
       "      <td>3240.020020</td>\n",
       "    </tr>\n",
       "    <tr>\n",
       "      <th>2019-12-30</th>\n",
       "      <td>3240.090088</td>\n",
       "      <td>3216.570068</td>\n",
       "      <td>3013290000</td>\n",
       "      <td>3221.290039</td>\n",
       "      <td>3240.919922</td>\n",
       "      <td>3221.290039</td>\n",
       "    </tr>\n",
       "    <tr>\n",
       "      <th>2019-12-31</th>\n",
       "      <td>3215.179932</td>\n",
       "      <td>3212.030029</td>\n",
       "      <td>2893810000</td>\n",
       "      <td>3230.780029</td>\n",
       "      <td>3231.719971</td>\n",
       "      <td>3230.780029</td>\n",
       "    </tr>\n",
       "  </tbody>\n",
       "</table>\n",
       "<p>5283 rows × 6 columns</p>\n",
       "</div>"
      ],
      "text/plain": [
       "                   open          low      volume        close         high  \\\n",
       "date                                                                         \n",
       "1999-01-04  1229.229980  1219.099976   877000000  1228.099976  1248.810059   \n",
       "1999-01-05  1228.099976  1228.099976   775000000  1244.780029  1246.109985   \n",
       "1999-01-06  1244.780029  1244.780029   986900000  1272.339966  1272.500000   \n",
       "1999-01-07  1272.339966  1257.680054   863000000  1269.729980  1272.339966   \n",
       "1999-01-08  1269.729980  1261.819946   937800000  1275.089966  1278.239990   \n",
       "...                 ...          ...         ...          ...          ...   \n",
       "2019-12-24  3225.449951  3220.510010  1296540000  3223.379883  3226.429932   \n",
       "2019-12-26  3227.199951  3227.199951  2160680000  3239.909912  3240.080078   \n",
       "2019-12-27  3247.229980  3234.370117  2428670000  3240.020020  3247.929932   \n",
       "2019-12-30  3240.090088  3216.570068  3013290000  3221.290039  3240.919922   \n",
       "2019-12-31  3215.179932  3212.030029  2893810000  3230.780029  3231.719971   \n",
       "\n",
       "               adjclose  \n",
       "date                     \n",
       "1999-01-04  1228.099976  \n",
       "1999-01-05  1244.780029  \n",
       "1999-01-06  1272.339966  \n",
       "1999-01-07  1269.729980  \n",
       "1999-01-08  1275.089966  \n",
       "...                 ...  \n",
       "2019-12-24  3223.379883  \n",
       "2019-12-26  3239.909912  \n",
       "2019-12-27  3240.020020  \n",
       "2019-12-30  3221.290039  \n",
       "2019-12-31  3230.780029  \n",
       "\n",
       "[5283 rows x 6 columns]"
      ]
     },
     "execution_count": 24,
     "metadata": {},
     "output_type": "execute_result"
    }
   ],
   "source": [
    "# Remove ticker from index and tranform date to Pandas datetime\n",
    "df = df.loc[df.index.get_level_values(0)[0]]\n",
    "df.index = pd.to_datetime(df.index)\n",
    "\n",
    "df"
   ]
  },
  {
   "cell_type": "code",
   "execution_count": 25,
   "metadata": {
    "colab": {
     "base_uri": "https://localhost:8080/"
    },
    "id": "Ydu6PMX21BPa",
    "outputId": "bd6bedc0-52a4-402f-a702-72bdce91eeb7"
   },
   "outputs": [
    {
     "data": {
      "text/plain": [
       "False"
      ]
     },
     "execution_count": 25,
     "metadata": {},
     "output_type": "execute_result"
    }
   ],
   "source": [
    "# Check for NAs\n",
    "df.isnull().values.any()"
   ]
  },
  {
   "cell_type": "code",
   "execution_count": 42,
   "metadata": {
    "id": "y9kQCMdZ2ssN"
   },
   "outputs": [],
   "source": [
    "adjclose = df[\"adjclose\"]"
   ]
  },
  {
   "cell_type": "code",
   "execution_count": 43,
   "metadata": {
    "colab": {
     "base_uri": "https://localhost:8080/",
     "height": 268
    },
    "id": "neEW5kT21M3h",
    "outputId": "18de928c-fede-4711-8f7f-4e1ac740a91e"
   },
   "outputs": [
    {
     "data": {
      "image/png": "[encoded data removed]",
      "text/plain": [
       "<Figure size 432x288 with 1 Axes>"
      ]
     },
     "metadata": {
      "needs_background": "light"
     },
     "output_type": "display_data"
    }
   ],
   "source": [
    "# Plot adjusted close\n",
    "adjclose.plot();"
   ]
  },
  {
   "cell_type": "code",
   "execution_count": 45,
   "metadata": {
    "colab": {
     "base_uri": "https://localhost:8080/",
     "height": 264
    },
    "id": "ae87rRgEYriU",
    "outputId": "19d6eb64-935f-4e4d-9d13-7455a9acae9b"
   },
   "outputs": [
    {
     "data": {
      "image/png": "[encoded data removed]",
      "text/plain": [
       "<Figure size 432x288 with 1 Axes>"
      ]
     },
     "metadata": {
      "needs_background": "light"
     },
     "output_type": "display_data"
    }
   ],
   "source": [
    "adjclose.hist();"
   ]
  },
  {
   "cell_type": "code",
   "execution_count": 46,
   "metadata": {
    "colab": {
     "base_uri": "https://localhost:8080/",
     "height": 268
    },
    "id": "-c3qYttJbg_d",
    "outputId": "aca06d2a-c4ce-41f0-cafb-028d3e8047c8"
   },
   "outputs": [
    {
     "data": {
      "image/png": "[encoded data removed]",
      "text/plain": [
       "<Figure size 432x288 with 1 Axes>"
      ]
     },
     "metadata": {
      "needs_background": "light"
     },
     "output_type": "display_data"
    }
   ],
   "source": [
    "adjclose.plot.kde();"
   ]
  },
  {
   "cell_type": "code",
   "execution_count": 47,
   "metadata": {
    "colab": {
     "base_uri": "https://localhost:8080/"
    },
    "id": "YhMqyGEJ1akE",
    "outputId": "f93e4064-2c85-4dde-c066-0d8dac262801"
   },
   "outputs": [
    {
     "name": "stdout",
     "output_type": "stream",
     "text": [
      "ADF Statistic: 1.49008703663717\n",
      "p-value: 0.997487317047142\n"
     ]
    }
   ],
   "source": [
    "# Test for statitionarity\n",
    "from statsmodels.tsa.stattools import adfuller\n",
    "\n",
    "ADF_result = adfuller(adjclose)\n",
    "\n",
    "print(f\"ADF Statistic: {ADF_result[0]}\")\n",
    "print(f\"p-value: {ADF_result[1]}\")"
   ]
  },
  {
   "cell_type": "code",
   "execution_count": 48,
   "metadata": {
    "colab": {
     "base_uri": "https://localhost:8080/",
     "height": 281
    },
    "id": "SaDJ4jSd2C90",
    "outputId": "b5f45ce2-f716-4679-a716-e72f35091927"
   },
   "outputs": [
    {
     "data": {
      "image/png": "[encoded data removed]",
      "text/plain": [
       "<Figure size 432x288 with 1 Axes>"
      ]
     },
     "metadata": {
      "needs_background": "light"
     },
     "output_type": "display_data"
    }
   ],
   "source": [
    "plot_acf(adjclose, lags=20);"
   ]
  },
  {
   "cell_type": "code",
   "execution_count": 51,
   "metadata": {
    "colab": {
     "base_uri": "https://localhost:8080/"
    },
    "id": "yHszeASS2aUt",
    "outputId": "6a71abb9-d504-4145-8419-013c12bdeca3"
   },
   "outputs": [
    {
     "name": "stdout",
     "output_type": "stream",
     "text": [
      "ADF Statistic: -17.415712262061714\n",
      "p-value: 4.85753037466549e-30\n"
     ]
    }
   ],
   "source": [
    "diff_adjclose = np.diff(adjclose, n=1)\n",
    "\n",
    "ADF_result = adfuller(diff_adjclose)\n",
    "\n",
    "print(f\"ADF Statistic: {ADF_result[0]}\")\n",
    "print(f\"p-value: {ADF_result[1]}\")"
   ]
  },
  {
   "cell_type": "code",
   "execution_count": 52,
   "metadata": {
    "colab": {
     "base_uri": "https://localhost:8080/",
     "height": 281
    },
    "id": "3_hyII6w3vvr",
    "outputId": "fc511f18-a0c9-4123-ff67-fac916c45a76"
   },
   "outputs": [
    {
     "data": {
      "image/png": "[encoded data removed]",
      "text/plain": [
       "<Figure size 432x288 with 1 Axes>"
      ]
     },
     "metadata": {
      "needs_background": "light"
     },
     "output_type": "display_data"
    }
   ],
   "source": [
    "plot_acf(diff_adjclose, lags=20);"
   ]
  },
  {
   "cell_type": "markdown",
   "metadata": {
    "id": "2ofjRiXd6yZ9"
   },
   "source": [
    "Voila, random walk"
   ]
  },
  {
   "cell_type": "code",
   "execution_count": 53,
   "metadata": {
    "colab": {
     "base_uri": "https://localhost:8080/"
    },
    "id": "eJqVZgftadXN",
    "outputId": "68f1642d-5336-440e-ce19-60dd997358df"
   },
   "outputs": [
    {
     "data": {
      "text/plain": [
       "(               adjclose\n",
       " date                   \n",
       " 1999-01-04  1228.099976\n",
       " 1999-01-05  1244.780029\n",
       " 1999-01-06  1272.339966\n",
       " 1999-01-07  1269.729980\n",
       " 1999-01-08  1275.089966\n",
       " ...                 ...\n",
       " 2015-10-13  2003.689941\n",
       " 2015-10-14  1994.239990\n",
       " 2015-10-15  2023.859985\n",
       " 2015-10-16  2033.109985\n",
       " 2015-10-19  2033.660034\n",
       " \n",
       " [4226 rows x 1 columns],\n",
       "                adjclose\n",
       " date                   \n",
       " 2015-10-20  2030.770020\n",
       " 2015-10-21  2018.939941\n",
       " 2015-10-22  2052.510010\n",
       " 2015-10-23  2075.149902\n",
       " 2015-10-26  2071.179932\n",
       " ...                 ...\n",
       " 2019-12-24  3223.379883\n",
       " 2019-12-26  3239.909912\n",
       " 2019-12-27  3240.020020\n",
       " 2019-12-30  3221.290039\n",
       " 2019-12-31  3230.780029\n",
       " \n",
       " [1057 rows x 1 columns])"
      ]
     },
     "execution_count": 53,
     "metadata": {},
     "output_type": "execute_result"
    }
   ],
   "source": [
    "train_df, test_df = train_test_split(df[[\"adjclose\"]], test_size=0.2, shuffle=False)\n",
    "train_df, test_df"
   ]
  },
  {
   "cell_type": "code",
   "execution_count": 54,
   "metadata": {
    "colab": {
     "base_uri": "https://localhost:8080/"
    },
    "id": "x-WFQE_AoNpL",
    "outputId": "b47fa97d-5dc0-4e38-8e92-5e2831cbadc6"
   },
   "outputs": [
    {
     "data": {
      "text/plain": [
       "date\n",
       "1999-01-04    1228.099976\n",
       "1999-01-05    1244.780029\n",
       "1999-01-06    1272.339966\n",
       "1999-01-07    1269.729980\n",
       "1999-01-08    1275.089966\n",
       "                 ...     \n",
       "2015-10-13    2003.689941\n",
       "2015-10-14    1994.239990\n",
       "2015-10-15    2023.859985\n",
       "2015-10-16    2033.109985\n",
       "2015-10-19    2033.660034\n",
       "Name: adjclose, Length: 4226, dtype: float64"
      ]
     },
     "execution_count": 54,
     "metadata": {},
     "output_type": "execute_result"
    }
   ],
   "source": [
    "train_s = train_df[\"adjclose\"]\n",
    "train_s"
   ]
  },
  {
   "cell_type": "code",
   "execution_count": 55,
   "metadata": {
    "colab": {
     "base_uri": "https://localhost:8080/",
     "height": 454
    },
    "id": "9rDrijF0cKtg",
    "outputId": "0fa51ea7-1a24-4049-f777-a880e9eef1d3"
   },
   "outputs": [
    {
     "data": {
      "text/html": [
       "<div>\n",
       "<style scoped>\n",
       "    .dataframe tbody tr th:only-of-type {\n",
       "        vertical-align: middle;\n",
       "    }\n",
       "\n",
       "    .dataframe tbody tr th {\n",
       "        vertical-align: top;\n",
       "    }\n",
       "\n",
       "    .dataframe thead th {\n",
       "        text-align: right;\n",
       "    }\n",
       "</style>\n",
       "<table border=\"1\" class=\"dataframe\">\n",
       "  <thead>\n",
       "    <tr style=\"text-align: right;\">\n",
       "      <th></th>\n",
       "      <th>adjclose</th>\n",
       "    </tr>\n",
       "    <tr>\n",
       "      <th>date</th>\n",
       "      <th></th>\n",
       "    </tr>\n",
       "  </thead>\n",
       "  <tbody>\n",
       "    <tr>\n",
       "      <th>2015-10-20</th>\n",
       "      <td>2030.770020</td>\n",
       "    </tr>\n",
       "    <tr>\n",
       "      <th>2015-10-21</th>\n",
       "      <td>2018.939941</td>\n",
       "    </tr>\n",
       "    <tr>\n",
       "      <th>2015-10-22</th>\n",
       "      <td>2052.510010</td>\n",
       "    </tr>\n",
       "    <tr>\n",
       "      <th>2015-10-23</th>\n",
       "      <td>2075.149902</td>\n",
       "    </tr>\n",
       "    <tr>\n",
       "      <th>2015-10-26</th>\n",
       "      <td>2071.179932</td>\n",
       "    </tr>\n",
       "    <tr>\n",
       "      <th>...</th>\n",
       "      <td>...</td>\n",
       "    </tr>\n",
       "    <tr>\n",
       "      <th>2019-12-24</th>\n",
       "      <td>3223.379883</td>\n",
       "    </tr>\n",
       "    <tr>\n",
       "      <th>2019-12-26</th>\n",
       "      <td>3239.909912</td>\n",
       "    </tr>\n",
       "    <tr>\n",
       "      <th>2019-12-27</th>\n",
       "      <td>3240.020020</td>\n",
       "    </tr>\n",
       "    <tr>\n",
       "      <th>2019-12-30</th>\n",
       "      <td>3221.290039</td>\n",
       "    </tr>\n",
       "    <tr>\n",
       "      <th>2019-12-31</th>\n",
       "      <td>3230.780029</td>\n",
       "    </tr>\n",
       "  </tbody>\n",
       "</table>\n",
       "<p>1057 rows × 1 columns</p>\n",
       "</div>"
      ],
      "text/plain": [
       "               adjclose\n",
       "date                   \n",
       "2015-10-20  2030.770020\n",
       "2015-10-21  2018.939941\n",
       "2015-10-22  2052.510010\n",
       "2015-10-23  2075.149902\n",
       "2015-10-26  2071.179932\n",
       "...                 ...\n",
       "2019-12-24  3223.379883\n",
       "2019-12-26  3239.909912\n",
       "2019-12-27  3240.020020\n",
       "2019-12-30  3221.290039\n",
       "2019-12-31  3230.780029\n",
       "\n",
       "[1057 rows x 1 columns]"
      ]
     },
     "execution_count": 55,
     "metadata": {},
     "output_type": "execute_result"
    }
   ],
   "source": [
    "pred_df = test_df.copy()\n",
    "pred_df"
   ]
  },
  {
   "cell_type": "code",
   "execution_count": 56,
   "metadata": {
    "colab": {
     "base_uri": "https://localhost:8080/",
     "height": 454
    },
    "id": "XcYGN2O8bwok",
    "outputId": "1307ec5e-66de-4b4a-f896-6d2066d44f45"
   },
   "outputs": [
    {
     "data": {
      "text/html": [
       "<div>\n",
       "<style scoped>\n",
       "    .dataframe tbody tr th:only-of-type {\n",
       "        vertical-align: middle;\n",
       "    }\n",
       "\n",
       "    .dataframe tbody tr th {\n",
       "        vertical-align: top;\n",
       "    }\n",
       "\n",
       "    .dataframe thead th {\n",
       "        text-align: right;\n",
       "    }\n",
       "</style>\n",
       "<table border=\"1\" class=\"dataframe\">\n",
       "  <thead>\n",
       "    <tr style=\"text-align: right;\">\n",
       "      <th></th>\n",
       "      <th>adjclose</th>\n",
       "      <th>mean</th>\n",
       "    </tr>\n",
       "    <tr>\n",
       "      <th>date</th>\n",
       "      <th></th>\n",
       "      <th></th>\n",
       "    </tr>\n",
       "  </thead>\n",
       "  <tbody>\n",
       "    <tr>\n",
       "      <th>2015-10-20</th>\n",
       "      <td>2030.770020</td>\n",
       "      <td>1322.041479</td>\n",
       "    </tr>\n",
       "    <tr>\n",
       "      <th>2015-10-21</th>\n",
       "      <td>2018.939941</td>\n",
       "      <td>1322.041479</td>\n",
       "    </tr>\n",
       "    <tr>\n",
       "      <th>2015-10-22</th>\n",
       "      <td>2052.510010</td>\n",
       "      <td>1322.041479</td>\n",
       "    </tr>\n",
       "    <tr>\n",
       "      <th>2015-10-23</th>\n",
       "      <td>2075.149902</td>\n",
       "      <td>1322.041479</td>\n",
       "    </tr>\n",
       "    <tr>\n",
       "      <th>2015-10-26</th>\n",
       "      <td>2071.179932</td>\n",
       "      <td>1322.041479</td>\n",
       "    </tr>\n",
       "    <tr>\n",
       "      <th>...</th>\n",
       "      <td>...</td>\n",
       "      <td>...</td>\n",
       "    </tr>\n",
       "    <tr>\n",
       "      <th>2019-12-24</th>\n",
       "      <td>3223.379883</td>\n",
       "      <td>1322.041479</td>\n",
       "    </tr>\n",
       "    <tr>\n",
       "      <th>2019-12-26</th>\n",
       "      <td>3239.909912</td>\n",
       "      <td>1322.041479</td>\n",
       "    </tr>\n",
       "    <tr>\n",
       "      <th>2019-12-27</th>\n",
       "      <td>3240.020020</td>\n",
       "      <td>1322.041479</td>\n",
       "    </tr>\n",
       "    <tr>\n",
       "      <th>2019-12-30</th>\n",
       "      <td>3221.290039</td>\n",
       "      <td>1322.041479</td>\n",
       "    </tr>\n",
       "    <tr>\n",
       "      <th>2019-12-31</th>\n",
       "      <td>3230.780029</td>\n",
       "      <td>1322.041479</td>\n",
       "    </tr>\n",
       "  </tbody>\n",
       "</table>\n",
       "<p>1057 rows × 2 columns</p>\n",
       "</div>"
      ],
      "text/plain": [
       "               adjclose         mean\n",
       "date                                \n",
       "2015-10-20  2030.770020  1322.041479\n",
       "2015-10-21  2018.939941  1322.041479\n",
       "2015-10-22  2052.510010  1322.041479\n",
       "2015-10-23  2075.149902  1322.041479\n",
       "2015-10-26  2071.179932  1322.041479\n",
       "...                 ...          ...\n",
       "2019-12-24  3223.379883  1322.041479\n",
       "2019-12-26  3239.909912  1322.041479\n",
       "2019-12-27  3240.020020  1322.041479\n",
       "2019-12-30  3221.290039  1322.041479\n",
       "2019-12-31  3230.780029  1322.041479\n",
       "\n",
       "[1057 rows x 2 columns]"
      ]
     },
     "execution_count": 56,
     "metadata": {},
     "output_type": "execute_result"
    }
   ],
   "source": [
    "pred_df[\"mean\"] = train_s.mean()\n",
    "pred_df"
   ]
  },
  {
   "cell_type": "code",
   "execution_count": 57,
   "metadata": {
    "colab": {
     "base_uri": "https://localhost:8080/",
     "height": 454
    },
    "id": "6A6uV8EgcsHY",
    "outputId": "ecc1fd31-0046-47a4-d585-790bfa082bcb"
   },
   "outputs": [
    {
     "data": {
      "text/html": [
       "<div>\n",
       "<style scoped>\n",
       "    .dataframe tbody tr th:only-of-type {\n",
       "        vertical-align: middle;\n",
       "    }\n",
       "\n",
       "    .dataframe tbody tr th {\n",
       "        vertical-align: top;\n",
       "    }\n",
       "\n",
       "    .dataframe thead th {\n",
       "        text-align: right;\n",
       "    }\n",
       "</style>\n",
       "<table border=\"1\" class=\"dataframe\">\n",
       "  <thead>\n",
       "    <tr style=\"text-align: right;\">\n",
       "      <th></th>\n",
       "      <th>adjclose</th>\n",
       "      <th>mean</th>\n",
       "      <th>last_value</th>\n",
       "    </tr>\n",
       "    <tr>\n",
       "      <th>date</th>\n",
       "      <th></th>\n",
       "      <th></th>\n",
       "      <th></th>\n",
       "    </tr>\n",
       "  </thead>\n",
       "  <tbody>\n",
       "    <tr>\n",
       "      <th>2015-10-20</th>\n",
       "      <td>2030.770020</td>\n",
       "      <td>1322.041479</td>\n",
       "      <td>2033.660034</td>\n",
       "    </tr>\n",
       "    <tr>\n",
       "      <th>2015-10-21</th>\n",
       "      <td>2018.939941</td>\n",
       "      <td>1322.041479</td>\n",
       "      <td>2033.660034</td>\n",
       "    </tr>\n",
       "    <tr>\n",
       "      <th>2015-10-22</th>\n",
       "      <td>2052.510010</td>\n",
       "      <td>1322.041479</td>\n",
       "      <td>2033.660034</td>\n",
       "    </tr>\n",
       "    <tr>\n",
       "      <th>2015-10-23</th>\n",
       "      <td>2075.149902</td>\n",
       "      <td>1322.041479</td>\n",
       "      <td>2033.660034</td>\n",
       "    </tr>\n",
       "    <tr>\n",
       "      <th>2015-10-26</th>\n",
       "      <td>2071.179932</td>\n",
       "      <td>1322.041479</td>\n",
       "      <td>2033.660034</td>\n",
       "    </tr>\n",
       "    <tr>\n",
       "      <th>...</th>\n",
       "      <td>...</td>\n",
       "      <td>...</td>\n",
       "      <td>...</td>\n",
       "    </tr>\n",
       "    <tr>\n",
       "      <th>2019-12-24</th>\n",
       "      <td>3223.379883</td>\n",
       "      <td>1322.041479</td>\n",
       "      <td>2033.660034</td>\n",
       "    </tr>\n",
       "    <tr>\n",
       "      <th>2019-12-26</th>\n",
       "      <td>3239.909912</td>\n",
       "      <td>1322.041479</td>\n",
       "      <td>2033.660034</td>\n",
       "    </tr>\n",
       "    <tr>\n",
       "      <th>2019-12-27</th>\n",
       "      <td>3240.020020</td>\n",
       "      <td>1322.041479</td>\n",
       "      <td>2033.660034</td>\n",
       "    </tr>\n",
       "    <tr>\n",
       "      <th>2019-12-30</th>\n",
       "      <td>3221.290039</td>\n",
       "      <td>1322.041479</td>\n",
       "      <td>2033.660034</td>\n",
       "    </tr>\n",
       "    <tr>\n",
       "      <th>2019-12-31</th>\n",
       "      <td>3230.780029</td>\n",
       "      <td>1322.041479</td>\n",
       "      <td>2033.660034</td>\n",
       "    </tr>\n",
       "  </tbody>\n",
       "</table>\n",
       "<p>1057 rows × 3 columns</p>\n",
       "</div>"
      ],
      "text/plain": [
       "               adjclose         mean   last_value\n",
       "date                                             \n",
       "2015-10-20  2030.770020  1322.041479  2033.660034\n",
       "2015-10-21  2018.939941  1322.041479  2033.660034\n",
       "2015-10-22  2052.510010  1322.041479  2033.660034\n",
       "2015-10-23  2075.149902  1322.041479  2033.660034\n",
       "2015-10-26  2071.179932  1322.041479  2033.660034\n",
       "...                 ...          ...          ...\n",
       "2019-12-24  3223.379883  1322.041479  2033.660034\n",
       "2019-12-26  3239.909912  1322.041479  2033.660034\n",
       "2019-12-27  3240.020020  1322.041479  2033.660034\n",
       "2019-12-30  3221.290039  1322.041479  2033.660034\n",
       "2019-12-31  3230.780029  1322.041479  2033.660034\n",
       "\n",
       "[1057 rows x 3 columns]"
      ]
     },
     "execution_count": 57,
     "metadata": {},
     "output_type": "execute_result"
    }
   ],
   "source": [
    "pred_df[\"last_value\"] = train_s.iloc[-1]\n",
    "pred_df"
   ]
  },
  {
   "cell_type": "code",
   "execution_count": 58,
   "metadata": {
    "colab": {
     "base_uri": "https://localhost:8080/"
    },
    "id": "d6VF_8dafphc",
    "outputId": "dd079cec-f345-4908-e9d3-b22d91c48180"
   },
   "outputs": [
    {
     "data": {
      "text/plain": [
       "0.19061998546941553"
      ]
     },
     "execution_count": 58,
     "metadata": {},
     "output_type": "execute_result"
    }
   ],
   "source": [
    "delta_X = len(train_s)\n",
    "delta_y = train_s.iloc[-1] - train_s.iloc[0]\n",
    "\n",
    "drift = delta_y / delta_X\n",
    "drift"
   ]
  },
  {
   "cell_type": "code",
   "execution_count": 59,
   "metadata": {
    "colab": {
     "base_uri": "https://localhost:8080/",
     "height": 454
    },
    "id": "sP0ZnDIQjVTC",
    "outputId": "94f108a9-a778-4419-b3b0-1f0856c9a629"
   },
   "outputs": [
    {
     "data": {
      "text/html": [
       "<div>\n",
       "<style scoped>\n",
       "    .dataframe tbody tr th:only-of-type {\n",
       "        vertical-align: middle;\n",
       "    }\n",
       "\n",
       "    .dataframe tbody tr th {\n",
       "        vertical-align: top;\n",
       "    }\n",
       "\n",
       "    .dataframe thead th {\n",
       "        text-align: right;\n",
       "    }\n",
       "</style>\n",
       "<table border=\"1\" class=\"dataframe\">\n",
       "  <thead>\n",
       "    <tr style=\"text-align: right;\">\n",
       "      <th></th>\n",
       "      <th>adjclose</th>\n",
       "      <th>mean</th>\n",
       "      <th>last_value</th>\n",
       "      <th>drift</th>\n",
       "    </tr>\n",
       "    <tr>\n",
       "      <th>date</th>\n",
       "      <th></th>\n",
       "      <th></th>\n",
       "      <th></th>\n",
       "      <th></th>\n",
       "    </tr>\n",
       "  </thead>\n",
       "  <tbody>\n",
       "    <tr>\n",
       "      <th>2015-10-20</th>\n",
       "      <td>2030.770020</td>\n",
       "      <td>1322.041479</td>\n",
       "      <td>2033.660034</td>\n",
       "      <td>2033.850654</td>\n",
       "    </tr>\n",
       "    <tr>\n",
       "      <th>2015-10-21</th>\n",
       "      <td>2018.939941</td>\n",
       "      <td>1322.041479</td>\n",
       "      <td>2033.660034</td>\n",
       "      <td>2034.041274</td>\n",
       "    </tr>\n",
       "    <tr>\n",
       "      <th>2015-10-22</th>\n",
       "      <td>2052.510010</td>\n",
       "      <td>1322.041479</td>\n",
       "      <td>2033.660034</td>\n",
       "      <td>2034.231894</td>\n",
       "    </tr>\n",
       "    <tr>\n",
       "      <th>2015-10-23</th>\n",
       "      <td>2075.149902</td>\n",
       "      <td>1322.041479</td>\n",
       "      <td>2033.660034</td>\n",
       "      <td>2034.422514</td>\n",
       "    </tr>\n",
       "    <tr>\n",
       "      <th>2015-10-26</th>\n",
       "      <td>2071.179932</td>\n",
       "      <td>1322.041479</td>\n",
       "      <td>2033.660034</td>\n",
       "      <td>2034.613134</td>\n",
       "    </tr>\n",
       "    <tr>\n",
       "      <th>...</th>\n",
       "      <td>...</td>\n",
       "      <td>...</td>\n",
       "      <td>...</td>\n",
       "      <td>...</td>\n",
       "    </tr>\n",
       "    <tr>\n",
       "      <th>2019-12-24</th>\n",
       "      <td>3223.379883</td>\n",
       "      <td>1322.041479</td>\n",
       "      <td>2033.660034</td>\n",
       "      <td>2234.382879</td>\n",
       "    </tr>\n",
       "    <tr>\n",
       "      <th>2019-12-26</th>\n",
       "      <td>3239.909912</td>\n",
       "      <td>1322.041479</td>\n",
       "      <td>2033.660034</td>\n",
       "      <td>2234.573499</td>\n",
       "    </tr>\n",
       "    <tr>\n",
       "      <th>2019-12-27</th>\n",
       "      <td>3240.020020</td>\n",
       "      <td>1322.041479</td>\n",
       "      <td>2033.660034</td>\n",
       "      <td>2234.764119</td>\n",
       "    </tr>\n",
       "    <tr>\n",
       "      <th>2019-12-30</th>\n",
       "      <td>3221.290039</td>\n",
       "      <td>1322.041479</td>\n",
       "      <td>2033.660034</td>\n",
       "      <td>2234.954739</td>\n",
       "    </tr>\n",
       "    <tr>\n",
       "      <th>2019-12-31</th>\n",
       "      <td>3230.780029</td>\n",
       "      <td>1322.041479</td>\n",
       "      <td>2033.660034</td>\n",
       "      <td>2235.145359</td>\n",
       "    </tr>\n",
       "  </tbody>\n",
       "</table>\n",
       "<p>1057 rows × 4 columns</p>\n",
       "</div>"
      ],
      "text/plain": [
       "               adjclose         mean   last_value        drift\n",
       "date                                                          \n",
       "2015-10-20  2030.770020  1322.041479  2033.660034  2033.850654\n",
       "2015-10-21  2018.939941  1322.041479  2033.660034  2034.041274\n",
       "2015-10-22  2052.510010  1322.041479  2033.660034  2034.231894\n",
       "2015-10-23  2075.149902  1322.041479  2033.660034  2034.422514\n",
       "2015-10-26  2071.179932  1322.041479  2033.660034  2034.613134\n",
       "...                 ...          ...          ...          ...\n",
       "2019-12-24  3223.379883  1322.041479  2033.660034  2234.382879\n",
       "2019-12-26  3239.909912  1322.041479  2033.660034  2234.573499\n",
       "2019-12-27  3240.020020  1322.041479  2033.660034  2234.764119\n",
       "2019-12-30  3221.290039  1322.041479  2033.660034  2234.954739\n",
       "2019-12-31  3230.780029  1322.041479  2033.660034  2235.145359\n",
       "\n",
       "[1057 rows x 4 columns]"
      ]
     },
     "execution_count": 59,
     "metadata": {},
     "output_type": "execute_result"
    }
   ],
   "source": [
    "pred_df[\"drift\"] = (\n",
    "    drift * np.arange(len(train_s) + 1, len(train_s) + 1 + len(test_df))\n",
    "    + train_s.iloc[0]\n",
    ")\n",
    "pred_df"
   ]
  },
  {
   "cell_type": "code",
   "execution_count": 60,
   "metadata": {
    "colab": {
     "base_uri": "https://localhost:8080/",
     "height": 374
    },
    "id": "WoucpSXZmsic",
    "outputId": "d68883ea-acea-41ee-8863-d2766ac2bd58"
   },
   "outputs": [
    {
     "data": {
      "image/png": "[encoded data removed]",
      "text/plain": [
       "<Figure size 720x432 with 1 Axes>"
      ]
     },
     "metadata": {
      "needs_background": "light"
     },
     "output_type": "display_data"
    }
   ],
   "source": [
    "pred_df.plot(figsize=(10, 6));"
   ]
  },
  {
   "cell_type": "code",
   "execution_count": 61,
   "metadata": {
    "colab": {
     "base_uri": "https://localhost:8080/",
     "height": 454
    },
    "id": "6atYrV0Mu_Mv",
    "outputId": "628b0667-46a7-4bef-c6ba-5bec3c7e2f2f"
   },
   "outputs": [
    {
     "data": {
      "text/html": [
       "<div>\n",
       "<style scoped>\n",
       "    .dataframe tbody tr th:only-of-type {\n",
       "        vertical-align: middle;\n",
       "    }\n",
       "\n",
       "    .dataframe tbody tr th {\n",
       "        vertical-align: top;\n",
       "    }\n",
       "\n",
       "    .dataframe thead th {\n",
       "        text-align: right;\n",
       "    }\n",
       "</style>\n",
       "<table border=\"1\" class=\"dataframe\">\n",
       "  <thead>\n",
       "    <tr style=\"text-align: right;\">\n",
       "      <th></th>\n",
       "      <th>adjclose</th>\n",
       "      <th>mean</th>\n",
       "      <th>last_value</th>\n",
       "      <th>drift</th>\n",
       "      <th>prev_value</th>\n",
       "    </tr>\n",
       "    <tr>\n",
       "      <th>date</th>\n",
       "      <th></th>\n",
       "      <th></th>\n",
       "      <th></th>\n",
       "      <th></th>\n",
       "      <th></th>\n",
       "    </tr>\n",
       "  </thead>\n",
       "  <tbody>\n",
       "    <tr>\n",
       "      <th>2015-10-20</th>\n",
       "      <td>2030.770020</td>\n",
       "      <td>1322.041479</td>\n",
       "      <td>2033.660034</td>\n",
       "      <td>2033.850654</td>\n",
       "      <td>2033.660034</td>\n",
       "    </tr>\n",
       "    <tr>\n",
       "      <th>2015-10-21</th>\n",
       "      <td>2018.939941</td>\n",
       "      <td>1322.041479</td>\n",
       "      <td>2033.660034</td>\n",
       "      <td>2034.041274</td>\n",
       "      <td>2030.770020</td>\n",
       "    </tr>\n",
       "    <tr>\n",
       "      <th>2015-10-22</th>\n",
       "      <td>2052.510010</td>\n",
       "      <td>1322.041479</td>\n",
       "      <td>2033.660034</td>\n",
       "      <td>2034.231894</td>\n",
       "      <td>2018.939941</td>\n",
       "    </tr>\n",
       "    <tr>\n",
       "      <th>2015-10-23</th>\n",
       "      <td>2075.149902</td>\n",
       "      <td>1322.041479</td>\n",
       "      <td>2033.660034</td>\n",
       "      <td>2034.422514</td>\n",
       "      <td>2052.510010</td>\n",
       "    </tr>\n",
       "    <tr>\n",
       "      <th>2015-10-26</th>\n",
       "      <td>2071.179932</td>\n",
       "      <td>1322.041479</td>\n",
       "      <td>2033.660034</td>\n",
       "      <td>2034.613134</td>\n",
       "      <td>2075.149902</td>\n",
       "    </tr>\n",
       "    <tr>\n",
       "      <th>...</th>\n",
       "      <td>...</td>\n",
       "      <td>...</td>\n",
       "      <td>...</td>\n",
       "      <td>...</td>\n",
       "      <td>...</td>\n",
       "    </tr>\n",
       "    <tr>\n",
       "      <th>2019-12-24</th>\n",
       "      <td>3223.379883</td>\n",
       "      <td>1322.041479</td>\n",
       "      <td>2033.660034</td>\n",
       "      <td>2234.382879</td>\n",
       "      <td>3224.010010</td>\n",
       "    </tr>\n",
       "    <tr>\n",
       "      <th>2019-12-26</th>\n",
       "      <td>3239.909912</td>\n",
       "      <td>1322.041479</td>\n",
       "      <td>2033.660034</td>\n",
       "      <td>2234.573499</td>\n",
       "      <td>3223.379883</td>\n",
       "    </tr>\n",
       "    <tr>\n",
       "      <th>2019-12-27</th>\n",
       "      <td>3240.020020</td>\n",
       "      <td>1322.041479</td>\n",
       "      <td>2033.660034</td>\n",
       "      <td>2234.764119</td>\n",
       "      <td>3239.909912</td>\n",
       "    </tr>\n",
       "    <tr>\n",
       "      <th>2019-12-30</th>\n",
       "      <td>3221.290039</td>\n",
       "      <td>1322.041479</td>\n",
       "      <td>2033.660034</td>\n",
       "      <td>2234.954739</td>\n",
       "      <td>3240.020020</td>\n",
       "    </tr>\n",
       "    <tr>\n",
       "      <th>2019-12-31</th>\n",
       "      <td>3230.780029</td>\n",
       "      <td>1322.041479</td>\n",
       "      <td>2033.660034</td>\n",
       "      <td>2235.145359</td>\n",
       "      <td>3221.290039</td>\n",
       "    </tr>\n",
       "  </tbody>\n",
       "</table>\n",
       "<p>1057 rows × 5 columns</p>\n",
       "</div>"
      ],
      "text/plain": [
       "               adjclose         mean   last_value        drift   prev_value\n",
       "date                                                                       \n",
       "2015-10-20  2030.770020  1322.041479  2033.660034  2033.850654  2033.660034\n",
       "2015-10-21  2018.939941  1322.041479  2033.660034  2034.041274  2030.770020\n",
       "2015-10-22  2052.510010  1322.041479  2033.660034  2034.231894  2018.939941\n",
       "2015-10-23  2075.149902  1322.041479  2033.660034  2034.422514  2052.510010\n",
       "2015-10-26  2071.179932  1322.041479  2033.660034  2034.613134  2075.149902\n",
       "...                 ...          ...          ...          ...          ...\n",
       "2019-12-24  3223.379883  1322.041479  2033.660034  2234.382879  3224.010010\n",
       "2019-12-26  3239.909912  1322.041479  2033.660034  2234.573499  3223.379883\n",
       "2019-12-27  3240.020020  1322.041479  2033.660034  2234.764119  3239.909912\n",
       "2019-12-30  3221.290039  1322.041479  2033.660034  2234.954739  3240.020020\n",
       "2019-12-31  3230.780029  1322.041479  2033.660034  2235.145359  3221.290039\n",
       "\n",
       "[1057 rows x 5 columns]"
      ]
     },
     "execution_count": 61,
     "metadata": {},
     "output_type": "execute_result"
    }
   ],
   "source": [
    "pred_df[\"prev_value\"] = pred_df[\"adjclose\"].shift()\n",
    "pred_df[\"prev_value\"].iloc[[0]] = train_s.iloc[-1]\n",
    "pred_df"
   ]
  },
  {
   "cell_type": "code",
   "execution_count": 62,
   "metadata": {
    "colab": {
     "base_uri": "https://localhost:8080/",
     "height": 374
    },
    "id": "gTtSsvg0wSOf",
    "outputId": "f8f826da-863a-452d-977b-b80dc7188be1"
   },
   "outputs": [
    {
     "data": {
      "image/png": "[encoded data removed]",
      "text/plain": [
       "<Figure size 720x432 with 1 Axes>"
      ]
     },
     "metadata": {
      "needs_background": "light"
     },
     "output_type": "display_data"
    }
   ],
   "source": [
    "pred_df[[\"adjclose\", \"prev_value\"]].plot(figsize=(10, 6));"
   ]
  },
  {
   "cell_type": "code",
   "execution_count": 63,
   "metadata": {
    "colab": {
     "base_uri": "https://localhost:8080/",
     "height": 383
    },
    "id": "eyLY2byXwfIi",
    "outputId": "2845fc28-4f80-4561-ab9b-6a129cfc0a9b"
   },
   "outputs": [
    {
     "data": {
      "image/png": "[encoded data removed]",
      "text/plain": [
       "<Figure size 720x432 with 1 Axes>"
      ]
     },
     "metadata": {
      "needs_background": "light"
     },
     "output_type": "display_data"
    }
   ],
   "source": [
    "pred_df[[\"adjclose\", \"prev_value\"]][:63].plot(figsize=(10, 6));"
   ]
  },
  {
   "cell_type": "code",
   "execution_count": 64,
   "metadata": {
    "colab": {
     "base_uri": "https://localhost:8080/",
     "height": 280
    },
    "id": "qEJy3xnLt3r-",
    "outputId": "f75b1f02-5c61-4d86-fa20-9aef41e3d362"
   },
   "outputs": [
    {
     "data": {
      "image/png": "[encoded data removed]",
      "text/plain": [
       "<Figure size 432x288 with 1 Axes>"
      ]
     },
     "metadata": {
      "needs_background": "light"
     },
     "output_type": "display_data"
    }
   ],
   "source": [
    "rmse_results = {\n",
    "    \"mean\": mean_squared_error(pred_df[\"adjclose\"], pred_df[\"mean\"], squared=False),\n",
    "    \"last_value\": mean_squared_error(\n",
    "        pred_df[\"adjclose\"], pred_df[\"last_value\"], squared=False\n",
    "    ),\n",
    "    \"drift\": mean_squared_error(pred_df[\"adjclose\"], pred_df[\"drift\"], squared=False),\n",
    "    \"prev_value\": mean_squared_error(\n",
    "        pred_df[\"adjclose\"], pred_df[\"prev_value\"], squared=False\n",
    "    ),\n",
    "}\n",
    "\n",
    "pd.DataFrame({\"Approach\": rmse_results.keys(), \"RMSE\": rmse_results.values()}).plot.bar(\n",
    "    x=\"Approach\", y=\"RMSE\", rot=0\n",
    ");"
   ]
  },
  {
   "cell_type": "code",
   "execution_count": 67,
   "metadata": {
    "colab": {
     "base_uri": "https://localhost:8080/"
    },
    "id": "wXPq4ZKLFwms",
    "outputId": "78394320-72f8-4173-f987-60c53aba177f"
   },
   "outputs": [
    {
     "name": "stdout",
     "output_type": "stream",
     "text": [
      "mean    \t1252.6407\n",
      "last_value\t600.0554\n",
      "drift   \t485.7396\n",
      "prev_value\t20.6400\n"
     ]
    }
   ],
   "source": [
    "for name, value in rmse_results.items():\n",
    "    print(f\"{name:8s}\\t{value:0.4f}\")"
   ]
  }
 ],
 "metadata": {
  "colab": {
   "collapsed_sections": [],
   "name": "GSPC_EDA.ipynb",
   "provenance": []
  },
  "kernelspec": {
   "display_name": "Python 3 (ipykernel)",
   "language": "python",
   "name": "python3"
  },
  "language_info": {
   "codemirror_mode": {
    "name": "ipython",
    "version": 3
   },
   "file_extension": ".py",
   "mimetype": "text/x-python",
   "name": "python",
   "nbconvert_exporter": "python",
   "pygments_lexer": "ipython3",
   "version": "3.9.5"
  }
 },
 "nbformat": 4,
 "nbformat_minor": 1
}